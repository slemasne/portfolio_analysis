{
 "cells": [
  {
   "cell_type": "markdown",
   "metadata": {},
   "source": [
    "Import the relevant *packages* at the start"
   ]
  },
  {
   "cell_type": "code",
   "execution_count": 1,
   "metadata": {
    "collapsed": false
   },
   "outputs": [],
   "source": [
    "import pandas as pd\n",
    "import matplotlib.pyplot as plt\n",
    "import os\n",
    "from datetime import datetime\n",
    "from yahoo_finance import Share\n",
    "%matplotlib inline"
   ]
  },
  {
   "cell_type": "code",
   "execution_count": 2,
   "metadata": {
    "collapsed": false
   },
   "outputs": [
    {
     "name": "stdout",
     "output_type": "stream",
     "text": [
      "\n",
      "The current directory is:  C:\\Users\\Stephen\\Documents\n",
      "\n",
      "The current time is:  2017-03-30 23:58:22.132000\n"
     ]
    }
   ],
   "source": [
    "print \"\\nThe current directory is: \",os.getcwd();\n",
    "print \"\\nThe current time is: \", datetime.now(),"
   ]
  },
  {
   "cell_type": "code",
   "execution_count": 3,
   "metadata": {
    "collapsed": false
   },
   "outputs": [],
   "source": [
    "#Define the tickers and quantity in your portfolio\n",
    "\n",
    "tickers = [\"IASP.L\",\"BRIC.L\",\"IEAG.L\",\"IGUS.L\",\"SEMA.L\",\"CSX5.L\",\"CUKX.L\"\n",
    "            ,\"IJPH.L\",\"EUXS.L\"]\n",
    "quantity = [84,73,9,45,24,41,21,83,2037]"
   ]
  },
  {
   "cell_type": "markdown",
   "metadata": {},
   "source": [
    "Create some functions to pull in data from Yahoo"
   ]
  },
  {
   "cell_type": "code",
   "execution_count": 4,
   "metadata": {
    "collapsed": true
   },
   "outputs": [],
   "source": [
    "def close():\n",
    "    result = []\n",
    "    for i in tickers:\n",
    "        result.append(Share(i).get_open())\n",
    "    return result\n",
    "\n",
    "def yr_high():\n",
    "    result = []\n",
    "    for i in tickers:\n",
    "        result.append((Share(i).get_year_high()))\n",
    "    return result"
   ]
  },
  {
   "cell_type": "code",
   "execution_count": 5,
   "metadata": {
    "collapsed": false
   },
   "outputs": [],
   "source": [
    "#Load data from Yahoo\n",
    "\n",
    "df_close = pd.Series(close()).astype(float)\n",
    "df_yr_high = pd.Series(yr_high())\n"
   ]
  },
  {
   "cell_type": "code",
   "execution_count": 6,
   "metadata": {
    "collapsed": true
   },
   "outputs": [],
   "source": [
    "#Create Dataframe\n",
    "\n",
    "df = pd.DataFrame({\"Tickers\":tickers,\n",
    "                  \"Quantity\": quantity})\n",
    "\n",
    "df[\"Year High\"] = df_yr_high\n",
    "df[\"Close\"] = df_close"
   ]
  },
  {
   "cell_type": "code",
   "execution_count": 7,
   "metadata": {
    "collapsed": false
   },
   "outputs": [
    {
     "data": {
      "text/html": [
       "<div>\n",
       "<table border=\"1\" class=\"dataframe\">\n",
       "  <thead>\n",
       "    <tr style=\"text-align: right;\">\n",
       "      <th></th>\n",
       "      <th>Quantity</th>\n",
       "      <th>Tickers</th>\n",
       "      <th>Year High</th>\n",
       "      <th>Close</th>\n",
       "    </tr>\n",
       "  </thead>\n",
       "  <tbody>\n",
       "    <tr>\n",
       "      <th>0</th>\n",
       "      <td>84</td>\n",
       "      <td>IASP.L</td>\n",
       "      <td>2184.78</td>\n",
       "      <td>2124.50</td>\n",
       "    </tr>\n",
       "    <tr>\n",
       "      <th>1</th>\n",
       "      <td>73</td>\n",
       "      <td>BRIC.L</td>\n",
       "      <td>2083.50</td>\n",
       "      <td>2058.50</td>\n",
       "    </tr>\n",
       "    <tr>\n",
       "      <th>2</th>\n",
       "      <td>9</td>\n",
       "      <td>IEAG.L</td>\n",
       "      <td>125.95</td>\n",
       "      <td>120.59</td>\n",
       "    </tr>\n",
       "    <tr>\n",
       "      <th>3</th>\n",
       "      <td>45</td>\n",
       "      <td>IGUS.L</td>\n",
       "      <td>5584.00</td>\n",
       "      <td>5506.00</td>\n",
       "    </tr>\n",
       "    <tr>\n",
       "      <th>4</th>\n",
       "      <td>24</td>\n",
       "      <td>SEMA.L</td>\n",
       "      <td>2395.00</td>\n",
       "      <td>2395.00</td>\n",
       "    </tr>\n",
       "    <tr>\n",
       "      <th>5</th>\n",
       "      <td>41</td>\n",
       "      <td>CSX5.L</td>\n",
       "      <td>102.830</td>\n",
       "      <td>102.67</td>\n",
       "    </tr>\n",
       "    <tr>\n",
       "      <th>6</th>\n",
       "      <td>21</td>\n",
       "      <td>CUKX.L</td>\n",
       "      <td>10809.70</td>\n",
       "      <td>10785.00</td>\n",
       "    </tr>\n",
       "    <tr>\n",
       "      <th>7</th>\n",
       "      <td>83</td>\n",
       "      <td>IJPH.L</td>\n",
       "      <td>52.78</td>\n",
       "      <td>51.65</td>\n",
       "    </tr>\n",
       "    <tr>\n",
       "      <th>8</th>\n",
       "      <td>2037</td>\n",
       "      <td>EUXS.L</td>\n",
       "      <td>487.01</td>\n",
       "      <td>486.50</td>\n",
       "    </tr>\n",
       "  </tbody>\n",
       "</table>\n",
       "</div>"
      ],
      "text/plain": [
       "   Quantity Tickers Year High     Close\n",
       "0        84  IASP.L   2184.78   2124.50\n",
       "1        73  BRIC.L   2083.50   2058.50\n",
       "2         9  IEAG.L    125.95    120.59\n",
       "3        45  IGUS.L   5584.00   5506.00\n",
       "4        24  SEMA.L   2395.00   2395.00\n",
       "5        41  CSX5.L   102.830    102.67\n",
       "6        21  CUKX.L  10809.70  10785.00\n",
       "7        83  IJPH.L     52.78     51.65\n",
       "8      2037  EUXS.L    487.01    486.50"
      ]
     },
     "execution_count": 7,
     "metadata": {},
     "output_type": "execute_result"
    }
   ],
   "source": [
    "df"
   ]
  },
  {
   "cell_type": "code",
   "execution_count": 8,
   "metadata": {
    "collapsed": false
   },
   "outputs": [
    {
     "data": {
      "text/html": [
       "<div>\n",
       "<table border=\"1\" class=\"dataframe\">\n",
       "  <thead>\n",
       "    <tr style=\"text-align: right;\">\n",
       "      <th></th>\n",
       "      <th>Quantity</th>\n",
       "      <th>Tickers</th>\n",
       "      <th>Year High</th>\n",
       "      <th>Close</th>\n",
       "    </tr>\n",
       "  </thead>\n",
       "  <tbody>\n",
       "    <tr>\n",
       "      <th>0</th>\n",
       "      <td>84</td>\n",
       "      <td>IASP.L</td>\n",
       "      <td>2184.78</td>\n",
       "      <td>2124.5</td>\n",
       "    </tr>\n",
       "    <tr>\n",
       "      <th>1</th>\n",
       "      <td>73</td>\n",
       "      <td>BRIC.L</td>\n",
       "      <td>2083.50</td>\n",
       "      <td>2058.5</td>\n",
       "    </tr>\n",
       "    <tr>\n",
       "      <th>2</th>\n",
       "      <td>9</td>\n",
       "      <td>IEAG.L</td>\n",
       "      <td>125.95</td>\n",
       "      <td>12059.0</td>\n",
       "    </tr>\n",
       "    <tr>\n",
       "      <th>3</th>\n",
       "      <td>45</td>\n",
       "      <td>IGUS.L</td>\n",
       "      <td>5584.00</td>\n",
       "      <td>5506.0</td>\n",
       "    </tr>\n",
       "    <tr>\n",
       "      <th>4</th>\n",
       "      <td>24</td>\n",
       "      <td>SEMA.L</td>\n",
       "      <td>2395.00</td>\n",
       "      <td>2395.0</td>\n",
       "    </tr>\n",
       "    <tr>\n",
       "      <th>5</th>\n",
       "      <td>41</td>\n",
       "      <td>CSX5.L</td>\n",
       "      <td>102.830</td>\n",
       "      <td>10267.0</td>\n",
       "    </tr>\n",
       "    <tr>\n",
       "      <th>6</th>\n",
       "      <td>21</td>\n",
       "      <td>CUKX.L</td>\n",
       "      <td>10809.70</td>\n",
       "      <td>10785.0</td>\n",
       "    </tr>\n",
       "    <tr>\n",
       "      <th>7</th>\n",
       "      <td>83</td>\n",
       "      <td>IJPH.L</td>\n",
       "      <td>52.78</td>\n",
       "      <td>5165.0</td>\n",
       "    </tr>\n",
       "    <tr>\n",
       "      <th>8</th>\n",
       "      <td>2037</td>\n",
       "      <td>EUXS.L</td>\n",
       "      <td>487.01</td>\n",
       "      <td>486.5</td>\n",
       "    </tr>\n",
       "  </tbody>\n",
       "</table>\n",
       "</div>"
      ],
      "text/plain": [
       "   Quantity Tickers Year High    Close\n",
       "0        84  IASP.L   2184.78   2124.5\n",
       "1        73  BRIC.L   2083.50   2058.5\n",
       "2         9  IEAG.L    125.95  12059.0\n",
       "3        45  IGUS.L   5584.00   5506.0\n",
       "4        24  SEMA.L   2395.00   2395.0\n",
       "5        41  CSX5.L   102.830  10267.0\n",
       "6        21  CUKX.L  10809.70  10785.0\n",
       "7        83  IJPH.L     52.78   5165.0\n",
       "8      2037  EUXS.L    487.01    486.5"
      ]
     },
     "execution_count": 8,
     "metadata": {},
     "output_type": "execute_result"
    }
   ],
   "source": [
    "## correct for tickers quoted in £ and not pence\n",
    "\n",
    "df.loc[df[\"Tickers\"] ==\"IEAG.L\", \"Close\" ] = 100 * df[\"Close\"]\n",
    "df.loc[df[\"Tickers\"] ==\"CSX5.L\", \"Close\" ] = 100 * df[\"Close\"]\n",
    "df.loc[df[\"Tickers\"] ==\"IJPH.L\", \"Close\" ] = 100 * df[\"Close\"]\n",
    "\n",
    "df\n",
    "\n"
   ]
  },
  {
   "cell_type": "code",
   "execution_count": 9,
   "metadata": {
    "collapsed": false
   },
   "outputs": [
    {
     "data": {
      "text/html": [
       "<div>\n",
       "<table border=\"1\" class=\"dataframe\">\n",
       "  <thead>\n",
       "    <tr style=\"text-align: right;\">\n",
       "      <th></th>\n",
       "      <th>Quantity</th>\n",
       "      <th>Tickers</th>\n",
       "      <th>Year High</th>\n",
       "      <th>Close</th>\n",
       "      <th>MV</th>\n",
       "    </tr>\n",
       "  </thead>\n",
       "  <tbody>\n",
       "    <tr>\n",
       "      <th>0</th>\n",
       "      <td>84</td>\n",
       "      <td>IASP.L</td>\n",
       "      <td>2184.78</td>\n",
       "      <td>2124.5</td>\n",
       "      <td>1784.58</td>\n",
       "    </tr>\n",
       "    <tr>\n",
       "      <th>1</th>\n",
       "      <td>73</td>\n",
       "      <td>BRIC.L</td>\n",
       "      <td>2083.50</td>\n",
       "      <td>2058.5</td>\n",
       "      <td>1502.70</td>\n",
       "    </tr>\n",
       "    <tr>\n",
       "      <th>2</th>\n",
       "      <td>9</td>\n",
       "      <td>IEAG.L</td>\n",
       "      <td>125.95</td>\n",
       "      <td>12059.0</td>\n",
       "      <td>1085.31</td>\n",
       "    </tr>\n",
       "    <tr>\n",
       "      <th>3</th>\n",
       "      <td>45</td>\n",
       "      <td>IGUS.L</td>\n",
       "      <td>5584.00</td>\n",
       "      <td>5506.0</td>\n",
       "      <td>2477.70</td>\n",
       "    </tr>\n",
       "    <tr>\n",
       "      <th>4</th>\n",
       "      <td>24</td>\n",
       "      <td>SEMA.L</td>\n",
       "      <td>2395.00</td>\n",
       "      <td>2395.0</td>\n",
       "      <td>574.80</td>\n",
       "    </tr>\n",
       "    <tr>\n",
       "      <th>5</th>\n",
       "      <td>41</td>\n",
       "      <td>CSX5.L</td>\n",
       "      <td>102.830</td>\n",
       "      <td>10267.0</td>\n",
       "      <td>4209.47</td>\n",
       "    </tr>\n",
       "    <tr>\n",
       "      <th>6</th>\n",
       "      <td>21</td>\n",
       "      <td>CUKX.L</td>\n",
       "      <td>10809.70</td>\n",
       "      <td>10785.0</td>\n",
       "      <td>2264.85</td>\n",
       "    </tr>\n",
       "    <tr>\n",
       "      <th>7</th>\n",
       "      <td>83</td>\n",
       "      <td>IJPH.L</td>\n",
       "      <td>52.78</td>\n",
       "      <td>5165.0</td>\n",
       "      <td>4286.95</td>\n",
       "    </tr>\n",
       "    <tr>\n",
       "      <th>8</th>\n",
       "      <td>2037</td>\n",
       "      <td>EUXS.L</td>\n",
       "      <td>487.01</td>\n",
       "      <td>486.5</td>\n",
       "      <td>9910.00</td>\n",
       "    </tr>\n",
       "  </tbody>\n",
       "</table>\n",
       "</div>"
      ],
      "text/plain": [
       "   Quantity Tickers Year High    Close       MV\n",
       "0        84  IASP.L   2184.78   2124.5  1784.58\n",
       "1        73  BRIC.L   2083.50   2058.5  1502.70\n",
       "2         9  IEAG.L    125.95  12059.0  1085.31\n",
       "3        45  IGUS.L   5584.00   5506.0  2477.70\n",
       "4        24  SEMA.L   2395.00   2395.0   574.80\n",
       "5        41  CSX5.L   102.830  10267.0  4209.47\n",
       "6        21  CUKX.L  10809.70  10785.0  2264.85\n",
       "7        83  IJPH.L     52.78   5165.0  4286.95\n",
       "8      2037  EUXS.L    487.01    486.5  9910.00"
      ]
     },
     "execution_count": 9,
     "metadata": {},
     "output_type": "execute_result"
    }
   ],
   "source": [
    "# Calculate MV\n",
    "\n",
    "df[\"MV\"] = ((df[\"Quantity\"] * df[\"Close\"])/100).round(2)\n",
    "\n",
    "df"
   ]
  },
  {
   "cell_type": "code",
   "execution_count": 10,
   "metadata": {
    "collapsed": false
   },
   "outputs": [
    {
     "data": {
      "text/plain": [
       "MV    28096.36\n",
       "dtype: float64"
      ]
     },
     "execution_count": 10,
     "metadata": {},
     "output_type": "execute_result"
    }
   ],
   "source": [
    "#Add subtotal row\n",
    "\n",
    "sum_row = df[[\"MV\"]].sum()\n",
    "sum_row"
   ]
  },
  {
   "cell_type": "code",
   "execution_count": 11,
   "metadata": {
    "collapsed": false
   },
   "outputs": [
    {
     "data": {
      "text/html": [
       "<div>\n",
       "<table border=\"1\" class=\"dataframe\">\n",
       "  <thead>\n",
       "    <tr style=\"text-align: right;\">\n",
       "      <th></th>\n",
       "      <th>MV</th>\n",
       "    </tr>\n",
       "  </thead>\n",
       "  <tbody>\n",
       "    <tr>\n",
       "      <th>0</th>\n",
       "      <td>28096.36</td>\n",
       "    </tr>\n",
       "  </tbody>\n",
       "</table>\n",
       "</div>"
      ],
      "text/plain": [
       "         MV\n",
       "0  28096.36"
      ]
     },
     "execution_count": 11,
     "metadata": {},
     "output_type": "execute_result"
    }
   ],
   "source": [
    "df_sum = pd.DataFrame(data=sum_row).T\n",
    "df_sum"
   ]
  },
  {
   "cell_type": "code",
   "execution_count": 12,
   "metadata": {
    "collapsed": false
   },
   "outputs": [
    {
     "data": {
      "text/html": [
       "<div>\n",
       "<table border=\"1\" class=\"dataframe\">\n",
       "  <thead>\n",
       "    <tr style=\"text-align: right;\">\n",
       "      <th></th>\n",
       "      <th>Quantity</th>\n",
       "      <th>Tickers</th>\n",
       "      <th>Year High</th>\n",
       "      <th>Close</th>\n",
       "      <th>MV</th>\n",
       "    </tr>\n",
       "  </thead>\n",
       "  <tbody>\n",
       "    <tr>\n",
       "      <th>0</th>\n",
       "      <td>NaN</td>\n",
       "      <td>NaN</td>\n",
       "      <td>NaN</td>\n",
       "      <td>NaN</td>\n",
       "      <td>28096.36</td>\n",
       "    </tr>\n",
       "  </tbody>\n",
       "</table>\n",
       "</div>"
      ],
      "text/plain": [
       "   Quantity  Tickers  Year High  Close        MV\n",
       "0       NaN      NaN        NaN    NaN  28096.36"
      ]
     },
     "execution_count": 12,
     "metadata": {},
     "output_type": "execute_result"
    }
   ],
   "source": [
    "columns = df.columns\n",
    "columns\n",
    "\n",
    "df_sum = df_sum.reindex(columns = df.columns)\n",
    "df_sum"
   ]
  },
  {
   "cell_type": "code",
   "execution_count": 13,
   "metadata": {
    "collapsed": false
   },
   "outputs": [
    {
     "data": {
      "text/html": [
       "<div>\n",
       "<table border=\"1\" class=\"dataframe\">\n",
       "  <thead>\n",
       "    <tr style=\"text-align: right;\">\n",
       "      <th></th>\n",
       "      <th>Quantity</th>\n",
       "      <th>Tickers</th>\n",
       "      <th>Year High</th>\n",
       "      <th>Close</th>\n",
       "      <th>MV</th>\n",
       "    </tr>\n",
       "  </thead>\n",
       "  <tbody>\n",
       "    <tr>\n",
       "      <th>0</th>\n",
       "      <td>84.0</td>\n",
       "      <td>IASP.L</td>\n",
       "      <td>2184.78</td>\n",
       "      <td>2124.5</td>\n",
       "      <td>1784.58</td>\n",
       "    </tr>\n",
       "    <tr>\n",
       "      <th>1</th>\n",
       "      <td>73.0</td>\n",
       "      <td>BRIC.L</td>\n",
       "      <td>2083.50</td>\n",
       "      <td>2058.5</td>\n",
       "      <td>1502.70</td>\n",
       "    </tr>\n",
       "    <tr>\n",
       "      <th>2</th>\n",
       "      <td>9.0</td>\n",
       "      <td>IEAG.L</td>\n",
       "      <td>125.95</td>\n",
       "      <td>12059.0</td>\n",
       "      <td>1085.31</td>\n",
       "    </tr>\n",
       "    <tr>\n",
       "      <th>3</th>\n",
       "      <td>45.0</td>\n",
       "      <td>IGUS.L</td>\n",
       "      <td>5584.00</td>\n",
       "      <td>5506.0</td>\n",
       "      <td>2477.70</td>\n",
       "    </tr>\n",
       "    <tr>\n",
       "      <th>4</th>\n",
       "      <td>24.0</td>\n",
       "      <td>SEMA.L</td>\n",
       "      <td>2395.00</td>\n",
       "      <td>2395.0</td>\n",
       "      <td>574.80</td>\n",
       "    </tr>\n",
       "    <tr>\n",
       "      <th>5</th>\n",
       "      <td>41.0</td>\n",
       "      <td>CSX5.L</td>\n",
       "      <td>102.830</td>\n",
       "      <td>10267.0</td>\n",
       "      <td>4209.47</td>\n",
       "    </tr>\n",
       "    <tr>\n",
       "      <th>6</th>\n",
       "      <td>21.0</td>\n",
       "      <td>CUKX.L</td>\n",
       "      <td>10809.70</td>\n",
       "      <td>10785.0</td>\n",
       "      <td>2264.85</td>\n",
       "    </tr>\n",
       "    <tr>\n",
       "      <th>7</th>\n",
       "      <td>83.0</td>\n",
       "      <td>IJPH.L</td>\n",
       "      <td>52.78</td>\n",
       "      <td>5165.0</td>\n",
       "      <td>4286.95</td>\n",
       "    </tr>\n",
       "    <tr>\n",
       "      <th>8</th>\n",
       "      <td>2037.0</td>\n",
       "      <td>EUXS.L</td>\n",
       "      <td>487.01</td>\n",
       "      <td>486.5</td>\n",
       "      <td>9910.00</td>\n",
       "    </tr>\n",
       "    <tr>\n",
       "      <th>9</th>\n",
       "      <td>NaN</td>\n",
       "      <td>NaN</td>\n",
       "      <td>NaN</td>\n",
       "      <td>NaN</td>\n",
       "      <td>28096.36</td>\n",
       "    </tr>\n",
       "  </tbody>\n",
       "</table>\n",
       "</div>"
      ],
      "text/plain": [
       "   Quantity Tickers Year High    Close        MV\n",
       "0      84.0  IASP.L   2184.78   2124.5   1784.58\n",
       "1      73.0  BRIC.L   2083.50   2058.5   1502.70\n",
       "2       9.0  IEAG.L    125.95  12059.0   1085.31\n",
       "3      45.0  IGUS.L   5584.00   5506.0   2477.70\n",
       "4      24.0  SEMA.L   2395.00   2395.0    574.80\n",
       "5      41.0  CSX5.L   102.830  10267.0   4209.47\n",
       "6      21.0  CUKX.L  10809.70  10785.0   2264.85\n",
       "7      83.0  IJPH.L     52.78   5165.0   4286.95\n",
       "8    2037.0  EUXS.L    487.01    486.5   9910.00\n",
       "9       NaN     NaN       NaN      NaN  28096.36"
      ]
     },
     "execution_count": 13,
     "metadata": {},
     "output_type": "execute_result"
    }
   ],
   "source": [
    "df=df.append(df_sum,ignore_index=True)\n",
    "df"
   ]
  },
  {
   "cell_type": "code",
   "execution_count": 14,
   "metadata": {
    "collapsed": false,
    "scrolled": false
   },
   "outputs": [
    {
     "data": {
      "text/html": [
       "<div>\n",
       "<table border=\"1\" class=\"dataframe\">\n",
       "  <thead>\n",
       "    <tr style=\"text-align: right;\">\n",
       "      <th></th>\n",
       "      <th>Quantity</th>\n",
       "      <th>Tickers</th>\n",
       "      <th>Year High</th>\n",
       "      <th>Close</th>\n",
       "      <th>MV</th>\n",
       "      <th>Asset Class</th>\n",
       "      <th>Region</th>\n",
       "    </tr>\n",
       "  </thead>\n",
       "  <tbody>\n",
       "    <tr>\n",
       "      <th>0</th>\n",
       "      <td>84.0</td>\n",
       "      <td>IASP.L</td>\n",
       "      <td>2184.78</td>\n",
       "      <td>2124.5</td>\n",
       "      <td>1784.58</td>\n",
       "      <td>Property</td>\n",
       "      <td>Asia</td>\n",
       "    </tr>\n",
       "    <tr>\n",
       "      <th>1</th>\n",
       "      <td>73.0</td>\n",
       "      <td>BRIC.L</td>\n",
       "      <td>2083.50</td>\n",
       "      <td>2058.5</td>\n",
       "      <td>1502.70</td>\n",
       "      <td>Equity</td>\n",
       "      <td>EM</td>\n",
       "    </tr>\n",
       "    <tr>\n",
       "      <th>2</th>\n",
       "      <td>9.0</td>\n",
       "      <td>IEAG.L</td>\n",
       "      <td>125.95</td>\n",
       "      <td>12059.0</td>\n",
       "      <td>1085.31</td>\n",
       "      <td>Bond</td>\n",
       "      <td>Europe</td>\n",
       "    </tr>\n",
       "    <tr>\n",
       "      <th>3</th>\n",
       "      <td>45.0</td>\n",
       "      <td>IGUS.L</td>\n",
       "      <td>5584.00</td>\n",
       "      <td>5506.0</td>\n",
       "      <td>2477.70</td>\n",
       "      <td>Equity</td>\n",
       "      <td>USA</td>\n",
       "    </tr>\n",
       "    <tr>\n",
       "      <th>4</th>\n",
       "      <td>24.0</td>\n",
       "      <td>SEMA.L</td>\n",
       "      <td>2395.00</td>\n",
       "      <td>2395.0</td>\n",
       "      <td>574.80</td>\n",
       "      <td>Equity</td>\n",
       "      <td>EM</td>\n",
       "    </tr>\n",
       "    <tr>\n",
       "      <th>5</th>\n",
       "      <td>41.0</td>\n",
       "      <td>CSX5.L</td>\n",
       "      <td>102.830</td>\n",
       "      <td>10267.0</td>\n",
       "      <td>4209.47</td>\n",
       "      <td>Equity</td>\n",
       "      <td>Europe</td>\n",
       "    </tr>\n",
       "    <tr>\n",
       "      <th>6</th>\n",
       "      <td>21.0</td>\n",
       "      <td>CUKX.L</td>\n",
       "      <td>10809.70</td>\n",
       "      <td>10785.0</td>\n",
       "      <td>2264.85</td>\n",
       "      <td>Equity</td>\n",
       "      <td>UK</td>\n",
       "    </tr>\n",
       "    <tr>\n",
       "      <th>7</th>\n",
       "      <td>83.0</td>\n",
       "      <td>IJPH.L</td>\n",
       "      <td>52.78</td>\n",
       "      <td>5165.0</td>\n",
       "      <td>4286.95</td>\n",
       "      <td>Equity</td>\n",
       "      <td>Asia</td>\n",
       "    </tr>\n",
       "    <tr>\n",
       "      <th>8</th>\n",
       "      <td>2037.0</td>\n",
       "      <td>EUXS.L</td>\n",
       "      <td>487.01</td>\n",
       "      <td>486.5</td>\n",
       "      <td>9910.00</td>\n",
       "      <td>Equity</td>\n",
       "      <td>Europe</td>\n",
       "    </tr>\n",
       "    <tr>\n",
       "      <th>9</th>\n",
       "      <td>NaN</td>\n",
       "      <td>NaN</td>\n",
       "      <td>NaN</td>\n",
       "      <td>NaN</td>\n",
       "      <td>28096.36</td>\n",
       "      <td>NaN</td>\n",
       "      <td>NaN</td>\n",
       "    </tr>\n",
       "  </tbody>\n",
       "</table>\n",
       "</div>"
      ],
      "text/plain": [
       "   Quantity Tickers Year High    Close        MV Asset Class  Region\n",
       "0      84.0  IASP.L   2184.78   2124.5   1784.58    Property    Asia\n",
       "1      73.0  BRIC.L   2083.50   2058.5   1502.70      Equity      EM\n",
       "2       9.0  IEAG.L    125.95  12059.0   1085.31        Bond  Europe\n",
       "3      45.0  IGUS.L   5584.00   5506.0   2477.70      Equity     USA\n",
       "4      24.0  SEMA.L   2395.00   2395.0    574.80      Equity      EM\n",
       "5      41.0  CSX5.L   102.830  10267.0   4209.47      Equity  Europe\n",
       "6      21.0  CUKX.L  10809.70  10785.0   2264.85      Equity      UK\n",
       "7      83.0  IJPH.L     52.78   5165.0   4286.95      Equity    Asia\n",
       "8    2037.0  EUXS.L    487.01    486.5   9910.00      Equity  Europe\n",
       "9       NaN     NaN       NaN      NaN  28096.36         NaN     NaN"
      ]
     },
     "execution_count": 14,
     "metadata": {},
     "output_type": "execute_result"
    }
   ],
   "source": [
    "df.loc[df[\"Tickers\"] ==\"IASP.L\", \"Asset Class\" ] = \"Property\"\n",
    "df.loc[df[\"Tickers\"] ==\"BRIC.L\", \"Asset Class\" ] = \"Equity\"\n",
    "df.loc[df[\"Tickers\"] ==\"IEAG.L\", \"Asset Class\" ] = \"Bond\"\n",
    "df.loc[df[\"Tickers\"] ==\"IGUS.L\", \"Asset Class\" ] = \"Equity\"\n",
    "df.loc[df[\"Tickers\"] ==\"SEMA.L\", \"Asset Class\" ] = \"Equity\"\n",
    "df.loc[df[\"Tickers\"] ==\"CSX5.L\", \"Asset Class\" ] = \"Equity\"\n",
    "df.loc[df[\"Tickers\"] ==\"CUKX.L\", \"Asset Class\" ] = \"Equity\"\n",
    "df.loc[df[\"Tickers\"] ==\"IJPH.L\", \"Asset Class\" ] = \"Equity\"\n",
    "df.loc[df[\"Tickers\"] ==\"EUXS.L\", \"Asset Class\" ] = \"Equity\"\n",
    "\n",
    "df.loc[df[\"Tickers\"] ==\"IASP.L\", \"Region\" ] = \"Asia\"\n",
    "df.loc[df[\"Tickers\"] ==\"BRIC.L\", \"Region\" ] = \"EM\"\n",
    "df.loc[df[\"Tickers\"] ==\"IEAG.L\", \"Region\" ] = \"Europe\"\n",
    "df.loc[df[\"Tickers\"] ==\"IGUS.L\", \"Region\" ] = \"USA\"\n",
    "df.loc[df[\"Tickers\"] ==\"SEMA.L\", \"Region\" ] = \"EM\"\n",
    "df.loc[df[\"Tickers\"] ==\"CSX5.L\", \"Region\" ] = \"Europe\"\n",
    "df.loc[df[\"Tickers\"] ==\"CUKX.L\", \"Region\" ] = \"UK\"\n",
    "df.loc[df[\"Tickers\"] ==\"IJPH.L\", \"Region\" ] = \"Asia\"\n",
    "df.loc[df[\"Tickers\"] ==\"EUXS.L\", \"Region\" ] = \"Europe\"\n",
    "\n",
    "df"
   ]
  },
  {
   "cell_type": "code",
   "execution_count": 15,
   "metadata": {
    "collapsed": false
   },
   "outputs": [
    {
     "data": {
      "text/html": [
       "<div>\n",
       "<table border=\"1\" class=\"dataframe\">\n",
       "  <thead>\n",
       "    <tr style=\"text-align: right;\">\n",
       "      <th></th>\n",
       "      <th>Quantity</th>\n",
       "      <th>Tickers</th>\n",
       "      <th>Year High</th>\n",
       "      <th>Close</th>\n",
       "      <th>MV</th>\n",
       "      <th>Asset Class</th>\n",
       "      <th>Region</th>\n",
       "      <th>Pct of MV</th>\n",
       "    </tr>\n",
       "  </thead>\n",
       "  <tbody>\n",
       "    <tr>\n",
       "      <th>0</th>\n",
       "      <td>84.0</td>\n",
       "      <td>IASP.L</td>\n",
       "      <td>2184.78</td>\n",
       "      <td>2124.5</td>\n",
       "      <td>1784.58</td>\n",
       "      <td>Property</td>\n",
       "      <td>Asia</td>\n",
       "      <td>6.35</td>\n",
       "    </tr>\n",
       "    <tr>\n",
       "      <th>1</th>\n",
       "      <td>73.0</td>\n",
       "      <td>BRIC.L</td>\n",
       "      <td>2083.50</td>\n",
       "      <td>2058.5</td>\n",
       "      <td>1502.70</td>\n",
       "      <td>Equity</td>\n",
       "      <td>EM</td>\n",
       "      <td>5.35</td>\n",
       "    </tr>\n",
       "    <tr>\n",
       "      <th>2</th>\n",
       "      <td>9.0</td>\n",
       "      <td>IEAG.L</td>\n",
       "      <td>125.95</td>\n",
       "      <td>12059.0</td>\n",
       "      <td>1085.31</td>\n",
       "      <td>Bond</td>\n",
       "      <td>Europe</td>\n",
       "      <td>3.86</td>\n",
       "    </tr>\n",
       "    <tr>\n",
       "      <th>3</th>\n",
       "      <td>45.0</td>\n",
       "      <td>IGUS.L</td>\n",
       "      <td>5584.00</td>\n",
       "      <td>5506.0</td>\n",
       "      <td>2477.70</td>\n",
       "      <td>Equity</td>\n",
       "      <td>USA</td>\n",
       "      <td>8.82</td>\n",
       "    </tr>\n",
       "    <tr>\n",
       "      <th>4</th>\n",
       "      <td>24.0</td>\n",
       "      <td>SEMA.L</td>\n",
       "      <td>2395.00</td>\n",
       "      <td>2395.0</td>\n",
       "      <td>574.80</td>\n",
       "      <td>Equity</td>\n",
       "      <td>EM</td>\n",
       "      <td>2.05</td>\n",
       "    </tr>\n",
       "    <tr>\n",
       "      <th>5</th>\n",
       "      <td>41.0</td>\n",
       "      <td>CSX5.L</td>\n",
       "      <td>102.830</td>\n",
       "      <td>10267.0</td>\n",
       "      <td>4209.47</td>\n",
       "      <td>Equity</td>\n",
       "      <td>Europe</td>\n",
       "      <td>14.98</td>\n",
       "    </tr>\n",
       "    <tr>\n",
       "      <th>6</th>\n",
       "      <td>21.0</td>\n",
       "      <td>CUKX.L</td>\n",
       "      <td>10809.70</td>\n",
       "      <td>10785.0</td>\n",
       "      <td>2264.85</td>\n",
       "      <td>Equity</td>\n",
       "      <td>UK</td>\n",
       "      <td>8.06</td>\n",
       "    </tr>\n",
       "    <tr>\n",
       "      <th>7</th>\n",
       "      <td>83.0</td>\n",
       "      <td>IJPH.L</td>\n",
       "      <td>52.78</td>\n",
       "      <td>5165.0</td>\n",
       "      <td>4286.95</td>\n",
       "      <td>Equity</td>\n",
       "      <td>Asia</td>\n",
       "      <td>15.26</td>\n",
       "    </tr>\n",
       "    <tr>\n",
       "      <th>8</th>\n",
       "      <td>2037.0</td>\n",
       "      <td>EUXS.L</td>\n",
       "      <td>487.01</td>\n",
       "      <td>486.5</td>\n",
       "      <td>9910.00</td>\n",
       "      <td>Equity</td>\n",
       "      <td>Europe</td>\n",
       "      <td>35.27</td>\n",
       "    </tr>\n",
       "    <tr>\n",
       "      <th>9</th>\n",
       "      <td>NaN</td>\n",
       "      <td>NaN</td>\n",
       "      <td>NaN</td>\n",
       "      <td>NaN</td>\n",
       "      <td>28096.36</td>\n",
       "      <td>NaN</td>\n",
       "      <td>NaN</td>\n",
       "      <td>100.00</td>\n",
       "    </tr>\n",
       "  </tbody>\n",
       "</table>\n",
       "</div>"
      ],
      "text/plain": [
       "   Quantity Tickers Year High    Close        MV Asset Class  Region  \\\n",
       "0      84.0  IASP.L   2184.78   2124.5   1784.58    Property    Asia   \n",
       "1      73.0  BRIC.L   2083.50   2058.5   1502.70      Equity      EM   \n",
       "2       9.0  IEAG.L    125.95  12059.0   1085.31        Bond  Europe   \n",
       "3      45.0  IGUS.L   5584.00   5506.0   2477.70      Equity     USA   \n",
       "4      24.0  SEMA.L   2395.00   2395.0    574.80      Equity      EM   \n",
       "5      41.0  CSX5.L   102.830  10267.0   4209.47      Equity  Europe   \n",
       "6      21.0  CUKX.L  10809.70  10785.0   2264.85      Equity      UK   \n",
       "7      83.0  IJPH.L     52.78   5165.0   4286.95      Equity    Asia   \n",
       "8    2037.0  EUXS.L    487.01    486.5   9910.00      Equity  Europe   \n",
       "9       NaN     NaN       NaN      NaN  28096.36         NaN     NaN   \n",
       "\n",
       "   Pct of MV  \n",
       "0       6.35  \n",
       "1       5.35  \n",
       "2       3.86  \n",
       "3       8.82  \n",
       "4       2.05  \n",
       "5      14.98  \n",
       "6       8.06  \n",
       "7      15.26  \n",
       "8      35.27  \n",
       "9     100.00  "
      ]
     },
     "execution_count": 15,
     "metadata": {},
     "output_type": "execute_result"
    }
   ],
   "source": [
    "df[\"Pct of MV\"] = ((df[\"MV\"] / df.iloc[9,4])*100).round(2)\n",
    "df"
   ]
  },
  {
   "cell_type": "markdown",
   "metadata": {},
   "source": [
    "## Plot data into pie-chart"
   ]
  },
  {
   "cell_type": "code",
   "execution_count": 16,
   "metadata": {
    "collapsed": false
   },
   "outputs": [],
   "source": [
    "#remove the subtotal from DataFrame\n",
    "\n",
    "df = df.drop(df.index[9])"
   ]
  },
  {
   "cell_type": "code",
   "execution_count": 17,
   "metadata": {
    "collapsed": false
   },
   "outputs": [
    {
     "data": {
      "text/html": [
       "<div>\n",
       "<table border=\"1\" class=\"dataframe\">\n",
       "  <thead>\n",
       "    <tr style=\"text-align: right;\">\n",
       "      <th></th>\n",
       "      <th>Quantity</th>\n",
       "      <th>Close</th>\n",
       "      <th>MV</th>\n",
       "      <th>Pct of MV</th>\n",
       "    </tr>\n",
       "    <tr>\n",
       "      <th>Asset Class</th>\n",
       "      <th></th>\n",
       "      <th></th>\n",
       "      <th></th>\n",
       "      <th></th>\n",
       "    </tr>\n",
       "  </thead>\n",
       "  <tbody>\n",
       "    <tr>\n",
       "      <th>Bond</th>\n",
       "      <td>9.0</td>\n",
       "      <td>12059.0</td>\n",
       "      <td>1085.31</td>\n",
       "      <td>3.86</td>\n",
       "    </tr>\n",
       "    <tr>\n",
       "      <th>Equity</th>\n",
       "      <td>2324.0</td>\n",
       "      <td>36663.0</td>\n",
       "      <td>25226.47</td>\n",
       "      <td>89.79</td>\n",
       "    </tr>\n",
       "    <tr>\n",
       "      <th>Property</th>\n",
       "      <td>84.0</td>\n",
       "      <td>2124.5</td>\n",
       "      <td>1784.58</td>\n",
       "      <td>6.35</td>\n",
       "    </tr>\n",
       "  </tbody>\n",
       "</table>\n",
       "</div>"
      ],
      "text/plain": [
       "             Quantity    Close        MV  Pct of MV\n",
       "Asset Class                                        \n",
       "Bond              9.0  12059.0   1085.31       3.86\n",
       "Equity         2324.0  36663.0  25226.47      89.79\n",
       "Property         84.0   2124.5   1784.58       6.35"
      ]
     },
     "execution_count": 17,
     "metadata": {},
     "output_type": "execute_result"
    }
   ],
   "source": [
    "# create pivot table for pie-chart\n",
    "\n",
    "gb = df.groupby(df[\"Asset Class\"]).sum()\n",
    "gb"
   ]
  },
  {
   "cell_type": "code",
   "execution_count": 18,
   "metadata": {
    "collapsed": false
   },
   "outputs": [
    {
     "data": {
      "text/html": [
       "<div>\n",
       "<table border=\"1\" class=\"dataframe\">\n",
       "  <thead>\n",
       "    <tr style=\"text-align: right;\">\n",
       "      <th></th>\n",
       "      <th>Pct of MV</th>\n",
       "    </tr>\n",
       "    <tr>\n",
       "      <th>Asset Class</th>\n",
       "      <th></th>\n",
       "    </tr>\n",
       "  </thead>\n",
       "  <tbody>\n",
       "    <tr>\n",
       "      <th>Bond</th>\n",
       "      <td>3.86</td>\n",
       "    </tr>\n",
       "    <tr>\n",
       "      <th>Equity</th>\n",
       "      <td>89.79</td>\n",
       "    </tr>\n",
       "    <tr>\n",
       "      <th>Property</th>\n",
       "      <td>6.35</td>\n",
       "    </tr>\n",
       "  </tbody>\n",
       "</table>\n",
       "</div>"
      ],
      "text/plain": [
       "             Pct of MV\n",
       "Asset Class           \n",
       "Bond              3.86\n",
       "Equity           89.79\n",
       "Property          6.35"
      ]
     },
     "execution_count": 18,
     "metadata": {},
     "output_type": "execute_result"
    }
   ],
   "source": [
    "#drop the irrelevant columns for pie-chart\n",
    "\n",
    "# axis argument is used to select column versus row whereby column = 1 and row = 0\n",
    "\n",
    "df2 = pd.DataFrame(gb)\n",
    "df2 = df2.drop([\"Quantity\"], axis =1)\n",
    "df2 = df2.drop([\"Close\"], axis =1)\n",
    "df2 = df2.drop([\"MV\"], axis =1)\n",
    "df2"
   ]
  },
  {
   "cell_type": "code",
   "execution_count": 19,
   "metadata": {
    "collapsed": false
   },
   "outputs": [
    {
     "data": {
      "image/png": "[encoded data removed]",
      "text/plain": [
       "<matplotlib.figure.Figure at 0x7e24e70>"
      ]
     },
     "metadata": {},
     "output_type": "display_data"
    }
   ],
   "source": [
    "#remove \n",
    "\n",
    "labels = df2.index\n",
    "sizes = df2[\"Pct of MV\"]\n",
    "colors = ['gold', 'yellowgreen', 'lightcoral', 'lightskyblue']\n",
    "explode = (0.2,0.1,0)\n",
    "\n",
    "# Plot\n",
    "plt.pie(sizes, explode = explode, labels=labels, colors=colors,\n",
    "        autopct='%1.1f%%', startangle=180, shadow=False)\n",
    " \n",
    "plt.axis('equal')\n",
    "plt.show()\n",
    "\n",
    "\n"
   ]
  },
  {
   "cell_type": "code",
   "execution_count": 20,
   "metadata": {
    "collapsed": false
   },
   "outputs": [
    {
     "data": {
      "image/png": "[encoded data removed]",
      "text/plain": [
       "<matplotlib.figure.Figure at 0x7ed8b10>"
      ]
     },
     "metadata": {},
     "output_type": "display_data"
    }
   ],
   "source": [
    "#Complete the same code for Region \n",
    "\n",
    "gb2 = df.groupby(df[\"Region\"]).sum()\n",
    "df3 = pd.DataFrame(gb2)\n",
    "df3 = df3.drop([\"Quantity\"], axis =1)\n",
    "df3 = df3.drop([\"Close\"], axis =1)\n",
    "df3 = df3.drop([\"MV\"], axis =1)\n",
    "\n",
    "labels = df3.index\n",
    "sizes = df3[\"Pct of MV\"]\n",
    "colors = ['gold', 'yellowgreen', 'lightcoral', 'lightskyblue','lightgreen']\n",
    "explode = (0,0,0,0,0)\n",
    "\n",
    "# Plot\n",
    "plt.pie(sizes, explode = explode, labels=labels, colors=colors,\n",
    "        autopct='%1.1f%%', startangle=180, shadow=False)\n",
    " \n",
    "plt.axis('equal')\n",
    "plt.show()"
   ]
  },
  {
   "cell_type": "code",
   "execution_count": null,
   "metadata": {
    "collapsed": true
   },
   "outputs": [],
   "source": []
  }
 ],
 "metadata": {
  "anaconda-cloud": {},
  "kernelspec": {
   "display_name": "Python [Root]",
   "language": "python",
   "name": "Python [Root]"
  },
  "language_info": {
   "codemirror_mode": {
    "name": "ipython",
    "version": 2
   },
   "file_extension": ".py",
   "mimetype": "text/x-python",
   "name": "python",
   "nbconvert_exporter": "python",
   "pygments_lexer": "ipython2",
   "version": "2.7.12"
  }
 },
 "nbformat": 4,
 "nbformat_minor": 0
}
